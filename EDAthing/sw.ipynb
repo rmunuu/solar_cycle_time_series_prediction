{
 "cells": [
  {
   "cell_type": "code",
   "execution_count": 1,
   "metadata": {},
   "outputs": [
    {
     "ename": "ModuleNotFoundError",
     "evalue": "No module named 'gdal'",
     "output_type": "error",
     "traceback": [
      "\u001b[1;31m---------------------------------------------------------------------------\u001b[0m",
      "\u001b[1;31mModuleNotFoundError\u001b[0m                       Traceback (most recent call last)",
      "\u001b[1;32mc:\\Users\\User\\Desktop\\ai project\\sw.ipynb Cell 1\u001b[0m line \u001b[0;36m<cell line: 6>\u001b[1;34m()\u001b[0m\n\u001b[0;32m      <a href='vscode-notebook-cell:/c%3A/Users/User/Desktop/ai%20project/sw.ipynb#W0sZmlsZQ%3D%3D?line=3'>4</a>\u001b[0m \u001b[39mimport\u001b[39;00m \u001b[39mos\u001b[39;00m\n\u001b[0;32m      <a href='vscode-notebook-cell:/c%3A/Users/User/Desktop/ai%20project/sw.ipynb#W0sZmlsZQ%3D%3D?line=4'>5</a>\u001b[0m \u001b[39mimport\u001b[39;00m \u001b[39mwarnings\u001b[39;00m\n\u001b[1;32m----> <a href='vscode-notebook-cell:/c%3A/Users/User/Desktop/ai%20project/sw.ipynb#W0sZmlsZQ%3D%3D?line=5'>6</a>\u001b[0m \u001b[39mimport\u001b[39;00m \u001b[39mgdal\u001b[39;00m\n",
      "\u001b[1;31mModuleNotFoundError\u001b[0m: No module named 'gdal'"
     ]
    }
   ],
   "source": [
    "import numpy as np\n",
    "import pandas as pd\n",
    "import matplotlib.pyplot as plt\n",
    "import os\n",
    "import warnings\n",
    "import gdal"
   ]
  },
  {
   "cell_type": "code",
   "execution_count": 14,
   "metadata": {},
   "outputs": [
    {
     "data": {
      "text/plain": [
       "['./sw_data/sweswi_data_12min_year1998.hdf',\n",
       " './sw_data/sweswi_data_12min_year1999.hdf',\n",
       " './sw_data/sweswi_data_12min_year2000.hdf',\n",
       " './sw_data/sweswi_data_12min_year2001.hdf',\n",
       " './sw_data/sweswi_data_12min_year2002.hdf']"
      ]
     },
     "execution_count": 14,
     "metadata": {},
     "output_type": "execute_result"
    }
   ],
   "source": [
    "path = [f'./sw_data/sweswi_data_12min_year{i}.hdf' for i in range(1998, 2022)]\n",
    "path[:5]"
   ]
  },
  {
   "cell_type": "code",
   "execution_count": 9,
   "metadata": {},
   "outputs": [
    {
     "ename": "HDF5ExtError",
     "evalue": "HDF5 error back trace\n\n  File \"C:\\b\\abs_e4nt8ttmb0\\croot\\hdf5_1686163951797\\work\\src\\H5F.c\", line 620, in H5Fopen\n    unable to open file\n  File \"C:\\b\\abs_e4nt8ttmb0\\croot\\hdf5_1686163951797\\work\\src\\H5VLcallback.c\", line 3502, in H5VL_file_open\n    failed to iterate over available VOL connector plugins\n  File \"C:\\b\\abs_e4nt8ttmb0\\croot\\hdf5_1686163951797\\work\\src\\H5PLpath.c\", line 579, in H5PL__path_table_iterate\n    can't iterate over plugins in plugin path '(null)'\n  File \"C:\\b\\abs_e4nt8ttmb0\\croot\\hdf5_1686163951797\\work\\src\\H5PLpath.c\", line 712, in H5PL__path_table_iterate_process_path\n    can't open directory\n  File \"C:\\b\\abs_e4nt8ttmb0\\croot\\hdf5_1686163951797\\work\\src\\H5VLcallback.c\", line 3351, in H5VL__file_open\n    open failed\n  File \"C:\\b\\abs_e4nt8ttmb0\\croot\\hdf5_1686163951797\\work\\src\\H5VLnative_file.c\", line 97, in H5VL__native_file_open\n    unable to open file\n  File \"C:\\b\\abs_e4nt8ttmb0\\croot\\hdf5_1686163951797\\work\\src\\H5Fint.c\", line 1990, in H5F_open\n    unable to read superblock\n  File \"C:\\b\\abs_e4nt8ttmb0\\croot\\hdf5_1686163951797\\work\\src\\H5Fsuper.c\", line 405, in H5F__super_read\n    file signature not found\n\nEnd of HDF5 error back trace\n\nUnable to open/create file './sw_data/sweswi_data_12min_year1998.hdf'",
     "output_type": "error",
     "traceback": [
      "\u001b[1;31m---------------------------------------------------------------------------\u001b[0m",
      "\u001b[1;31mHDF5ExtError\u001b[0m                              Traceback (most recent call last)",
      "\u001b[1;32mc:\\Users\\User\\Desktop\\ai project\\sw.ipynb Cell 3\u001b[0m line \u001b[0;36m<cell line: 1>\u001b[1;34m()\u001b[0m\n\u001b[1;32m----> <a href='vscode-notebook-cell:/c%3A/Users/User/Desktop/ai%20project/sw.ipynb#W6sZmlsZQ%3D%3D?line=0'>1</a>\u001b[0m \u001b[39mwith\u001b[39;00m pd\u001b[39m.\u001b[39;49mHDFStore(path[\u001b[39m0\u001b[39;49m]) \u001b[39mas\u001b[39;00m store:\n\u001b[0;32m      <a href='vscode-notebook-cell:/c%3A/Users/User/Desktop/ai%20project/sw.ipynb#W6sZmlsZQ%3D%3D?line=1'>2</a>\u001b[0m     \u001b[39mprint\u001b[39m(store\u001b[39m.\u001b[39mkeys())\n",
      "File \u001b[1;32mc:\\Users\\User\\AppData\\Local\\Programs\\Python\\Python310\\lib\\site-packages\\pandas\\io\\pytables.py:591\u001b[0m, in \u001b[0;36mHDFStore.__init__\u001b[1;34m(self, path, mode, complevel, complib, fletcher32, **kwargs)\u001b[0m\n\u001b[0;32m    589\u001b[0m \u001b[39mself\u001b[39m\u001b[39m.\u001b[39m_fletcher32 \u001b[39m=\u001b[39m fletcher32\n\u001b[0;32m    590\u001b[0m \u001b[39mself\u001b[39m\u001b[39m.\u001b[39m_filters \u001b[39m=\u001b[39m \u001b[39mNone\u001b[39;00m\n\u001b[1;32m--> 591\u001b[0m \u001b[39mself\u001b[39m\u001b[39m.\u001b[39mopen(mode\u001b[39m=\u001b[39mmode, \u001b[39m*\u001b[39m\u001b[39m*\u001b[39mkwargs)\n",
      "File \u001b[1;32mc:\\Users\\User\\AppData\\Local\\Programs\\Python\\Python310\\lib\\site-packages\\pandas\\io\\pytables.py:740\u001b[0m, in \u001b[0;36mHDFStore.open\u001b[1;34m(self, mode, **kwargs)\u001b[0m\n\u001b[0;32m    734\u001b[0m     msg \u001b[39m=\u001b[39m (\n\u001b[0;32m    735\u001b[0m         \u001b[39m\"\u001b[39m\u001b[39mCannot open HDF5 file, which is already opened, \u001b[39m\u001b[39m\"\u001b[39m\n\u001b[0;32m    736\u001b[0m         \u001b[39m\"\u001b[39m\u001b[39meven in read-only mode.\u001b[39m\u001b[39m\"\u001b[39m\n\u001b[0;32m    737\u001b[0m     )\n\u001b[0;32m    738\u001b[0m     \u001b[39mraise\u001b[39;00m \u001b[39mValueError\u001b[39;00m(msg)\n\u001b[1;32m--> 740\u001b[0m \u001b[39mself\u001b[39m\u001b[39m.\u001b[39m_handle \u001b[39m=\u001b[39m tables\u001b[39m.\u001b[39mopen_file(\u001b[39mself\u001b[39m\u001b[39m.\u001b[39m_path, \u001b[39mself\u001b[39m\u001b[39m.\u001b[39m_mode, \u001b[39m*\u001b[39m\u001b[39m*\u001b[39mkwargs)\n",
      "File \u001b[1;32mc:\\Users\\User\\AppData\\Local\\Programs\\Python\\Python310\\lib\\site-packages\\tables\\file.py:294\u001b[0m, in \u001b[0;36mopen_file\u001b[1;34m(filename, mode, title, root_uep, filters, **kwargs)\u001b[0m\n\u001b[0;32m    289\u001b[0m             \u001b[39mraise\u001b[39;00m \u001b[39mValueError\u001b[39;00m(\n\u001b[0;32m    290\u001b[0m                 \u001b[39m\"\u001b[39m\u001b[39mThe file \u001b[39m\u001b[39m'\u001b[39m\u001b[39m%s\u001b[39;00m\u001b[39m'\u001b[39m\u001b[39m is already opened.  Please \u001b[39m\u001b[39m\"\u001b[39m\n\u001b[0;32m    291\u001b[0m                 \u001b[39m\"\u001b[39m\u001b[39mclose it before reopening in write mode.\u001b[39m\u001b[39m\"\u001b[39m \u001b[39m%\u001b[39m filename)\n\u001b[0;32m    293\u001b[0m \u001b[39m# Finally, create the File instance, and return it\u001b[39;00m\n\u001b[1;32m--> 294\u001b[0m \u001b[39mreturn\u001b[39;00m File(filename, mode, title, root_uep, filters, \u001b[39m*\u001b[39m\u001b[39m*\u001b[39mkwargs)\n",
      "File \u001b[1;32mc:\\Users\\User\\AppData\\Local\\Programs\\Python\\Python310\\lib\\site-packages\\tables\\file.py:744\u001b[0m, in \u001b[0;36mFile.__init__\u001b[1;34m(self, filename, mode, title, root_uep, filters, **kwargs)\u001b[0m\n\u001b[0;32m    741\u001b[0m \u001b[39mself\u001b[39m\u001b[39m.\u001b[39mparams \u001b[39m=\u001b[39m params\n\u001b[0;32m    743\u001b[0m \u001b[39m# Now, it is time to initialize the File extension\u001b[39;00m\n\u001b[1;32m--> 744\u001b[0m \u001b[39mself\u001b[39m\u001b[39m.\u001b[39m_g_new(filename, mode, \u001b[39m*\u001b[39m\u001b[39m*\u001b[39mparams)\n\u001b[0;32m    746\u001b[0m \u001b[39m# Check filters and set PyTables format version for new files.\u001b[39;00m\n\u001b[0;32m    747\u001b[0m new \u001b[39m=\u001b[39m \u001b[39mself\u001b[39m\u001b[39m.\u001b[39m_v_new\n",
      "File \u001b[1;32mc:\\Users\\User\\AppData\\Local\\Programs\\Python\\Python310\\lib\\site-packages\\tables\\hdf5extension.pyx:515\u001b[0m, in \u001b[0;36mtables.hdf5extension.File._g_new\u001b[1;34m()\u001b[0m\n",
      "\u001b[1;31mHDF5ExtError\u001b[0m: HDF5 error back trace\n\n  File \"C:\\b\\abs_e4nt8ttmb0\\croot\\hdf5_1686163951797\\work\\src\\H5F.c\", line 620, in H5Fopen\n    unable to open file\n  File \"C:\\b\\abs_e4nt8ttmb0\\croot\\hdf5_1686163951797\\work\\src\\H5VLcallback.c\", line 3502, in H5VL_file_open\n    failed to iterate over available VOL connector plugins\n  File \"C:\\b\\abs_e4nt8ttmb0\\croot\\hdf5_1686163951797\\work\\src\\H5PLpath.c\", line 579, in H5PL__path_table_iterate\n    can't iterate over plugins in plugin path '(null)'\n  File \"C:\\b\\abs_e4nt8ttmb0\\croot\\hdf5_1686163951797\\work\\src\\H5PLpath.c\", line 712, in H5PL__path_table_iterate_process_path\n    can't open directory\n  File \"C:\\b\\abs_e4nt8ttmb0\\croot\\hdf5_1686163951797\\work\\src\\H5VLcallback.c\", line 3351, in H5VL__file_open\n    open failed\n  File \"C:\\b\\abs_e4nt8ttmb0\\croot\\hdf5_1686163951797\\work\\src\\H5VLnative_file.c\", line 97, in H5VL__native_file_open\n    unable to open file\n  File \"C:\\b\\abs_e4nt8ttmb0\\croot\\hdf5_1686163951797\\work\\src\\H5Fint.c\", line 1990, in H5F_open\n    unable to read superblock\n  File \"C:\\b\\abs_e4nt8ttmb0\\croot\\hdf5_1686163951797\\work\\src\\H5Fsuper.c\", line 405, in H5F__super_read\n    file signature not found\n\nEnd of HDF5 error back trace\n\nUnable to open/create file './sw_data/sweswi_data_12min_year1998.hdf'"
     ]
    }
   ],
   "source": [
    "with pd.HDFStore(path[0]) as store:\n",
    "    print(store.keys())"
   ]
  },
  {
   "cell_type": "code",
   "execution_count": null,
   "metadata": {},
   "outputs": [],
   "source": [
    "df = pd.read_hdf(path[0], key='Dataframe')"
   ]
  },
  {
   "cell_type": "code",
   "execution_count": null,
   "metadata": {},
   "outputs": [],
   "source": [
    "# with h5py.File('sweswi_data_12min_year1998.hdf', 'r') as file:\n",
    "#     # List all groups\n",
    "#     print(\"Keys: %s\" % file.keys())\n",
    "#     a_group_key = list(file.keys())[0]"
   ]
  },
  {
   "cell_type": "code",
   "execution_count": 36,
   "metadata": {},
   "outputs": [
    {
     "ename": "AttributeError",
     "evalue": "module 'pyhdf' has no attribute 'SD'",
     "output_type": "error",
     "traceback": [
      "\u001b[1;31m---------------------------------------------------------------------------\u001b[0m",
      "\u001b[1;31mAttributeError\u001b[0m                            Traceback (most recent call last)",
      "\u001b[1;32mc:\\Users\\User\\Desktop\\ai project\\sw.ipynb Cell 5\u001b[0m line \u001b[0;36m<cell line: 1>\u001b[1;34m()\u001b[0m\n\u001b[1;32m----> <a href='vscode-notebook-cell:/c%3A/Users/User/Desktop/ai%20project/sw.ipynb#X10sZmlsZQ%3D%3D?line=0'>1</a>\u001b[0m hdf \u001b[39m=\u001b[39m pyhdf\u001b[39m.\u001b[39;49mSD\u001b[39m.\u001b[39mSD(path[\u001b[39m0\u001b[39m])\n",
      "\u001b[1;31mAttributeError\u001b[0m: module 'pyhdf' has no attribute 'SD'"
     ]
    }
   ],
   "source": [
    "hdf = pyhdf.SD.SD(path[0])"
   ]
  },
  {
   "cell_type": "code",
   "execution_count": null,
   "metadata": {},
   "outputs": [],
   "source": []
  }
 ],
 "metadata": {
  "kernelspec": {
   "display_name": "Python 3",
   "language": "python",
   "name": "python3"
  },
  "language_info": {
   "codemirror_mode": {
    "name": "ipython",
    "version": 3
   },
   "file_extension": ".py",
   "mimetype": "text/x-python",
   "name": "python",
   "nbconvert_exporter": "python",
   "pygments_lexer": "ipython3",
   "version": "3.10.4"
  }
 },
 "nbformat": 4,
 "nbformat_minor": 2
}
