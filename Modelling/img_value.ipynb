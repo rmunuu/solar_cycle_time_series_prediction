{
 "cells": [
  {
   "cell_type": "code",
   "execution_count": 1,
   "metadata": {},
   "outputs": [],
   "source": [
    "import numpy as np\n",
    "import pandas as pd\n",
    "import matplotlib.pyplot as plt\n",
    "import seaborn as sns\n",
    "import tensorflow as tf\n",
    "from tensorflow import keras\n",
    "import pickle\n",
    "\n",
    "from sklearn.model_selection import train_test_split\n",
    "from sklearn.preprocessing import MinMaxScaler\n",
    "from keras.models import Sequential\n",
    "from keras.layers import Dense, Flatten, BatchNormalization, Conv2D, MaxPool2D\n",
    "from keras import Input"
   ]
  },
  {
   "cell_type": "code",
   "execution_count": 2,
   "metadata": {},
   "outputs": [],
   "source": [
    "from keras.utils import load_img, img_to_array"
   ]
  },
  {
   "cell_type": "code",
   "execution_count": 6,
   "metadata": {},
   "outputs": [],
   "source": [
    "with open('./data/integrated.pkl', 'rb') as f:\n",
    "    df = pickle.load(f)"
   ]
  },
  {
   "cell_type": "code",
   "execution_count": 8,
   "metadata": {},
   "outputs": [],
   "source": [
    "df = df[23191:25990]"
   ]
  },
  {
   "cell_type": "code",
   "execution_count": 11,
   "metadata": {},
   "outputs": [
    {
     "data": {
      "text/html": [
       "<div>\n",
       "<style scoped>\n",
       "    .dataframe tbody tr th:only-of-type {\n",
       "        vertical-align: middle;\n",
       "    }\n",
       "\n",
       "    .dataframe tbody tr th {\n",
       "        vertical-align: top;\n",
       "    }\n",
       "\n",
       "    .dataframe thead th {\n",
       "        text-align: right;\n",
       "    }\n",
       "</style>\n",
       "<table border=\"1\" class=\"dataframe\">\n",
       "  <thead>\n",
       "    <tr style=\"text-align: right;\">\n",
       "      <th></th>\n",
       "      <th>f10-7</th>\n",
       "      <th>mag</th>\n",
       "      <th>Np</th>\n",
       "      <th>Vp</th>\n",
       "      <th>Tpr</th>\n",
       "      <th>ssn</th>\n",
       "      <th>img_193_loc</th>\n",
       "      <th>img_304_loc</th>\n",
       "    </tr>\n",
       "  </thead>\n",
       "  <tbody>\n",
       "    <tr>\n",
       "      <th>2010-09-01</th>\n",
       "      <td>77.7</td>\n",
       "      <td>7.345958</td>\n",
       "      <td>None</td>\n",
       "      <td>None</td>\n",
       "      <td>None</td>\n",
       "      <td>51</td>\n",
       "      <td>./data/img_193/2010_09_01.jpg</td>\n",
       "      <td>./data/img_304/2010_09_01.jpg</td>\n",
       "    </tr>\n",
       "    <tr>\n",
       "      <th>2018-04-30</th>\n",
       "      <td>71.3</td>\n",
       "      <td>5.670791</td>\n",
       "      <td>None</td>\n",
       "      <td>None</td>\n",
       "      <td>None</td>\n",
       "      <td>0</td>\n",
       "      <td>./data/img_193/2018_04_30.jpg</td>\n",
       "      <td>./data/img_304/2018_04_30.jpg</td>\n",
       "    </tr>\n",
       "  </tbody>\n",
       "</table>\n",
       "</div>"
      ],
      "text/plain": [
       "            f10-7       mag    Np    Vp   Tpr ssn  \\\n",
       "2010-09-01   77.7  7.345958  None  None  None  51   \n",
       "2018-04-30   71.3  5.670791  None  None  None   0   \n",
       "\n",
       "                              img_193_loc                    img_304_loc  \n",
       "2010-09-01  ./data/img_193/2010_09_01.jpg  ./data/img_304/2010_09_01.jpg  \n",
       "2018-04-30  ./data/img_193/2018_04_30.jpg  ./data/img_304/2018_04_30.jpg  "
      ]
     },
     "execution_count": 11,
     "metadata": {},
     "output_type": "execute_result"
    }
   ],
   "source": [
    "df.iloc[[0, -1], :]"
   ]
  },
  {
   "cell_type": "code",
   "execution_count": 18,
   "metadata": {},
   "outputs": [
    {
     "data": {
      "text/html": [
       "<div>\n",
       "<style scoped>\n",
       "    .dataframe tbody tr th:only-of-type {\n",
       "        vertical-align: middle;\n",
       "    }\n",
       "\n",
       "    .dataframe tbody tr th {\n",
       "        vertical-align: top;\n",
       "    }\n",
       "\n",
       "    .dataframe thead th {\n",
       "        text-align: right;\n",
       "    }\n",
       "</style>\n",
       "<table border=\"1\" class=\"dataframe\">\n",
       "  <thead>\n",
       "    <tr style=\"text-align: right;\">\n",
       "      <th></th>\n",
       "      <th>f10-7</th>\n",
       "      <th>img_193_loc</th>\n",
       "      <th>img_304_loc</th>\n",
       "    </tr>\n",
       "  </thead>\n",
       "  <tbody>\n",
       "    <tr>\n",
       "      <th>2010-09-01</th>\n",
       "      <td>77.7</td>\n",
       "      <td>./data/img_193/2010_09_01.jpg</td>\n",
       "      <td>./data/img_304/2010_09_01.jpg</td>\n",
       "    </tr>\n",
       "    <tr>\n",
       "      <th>2010-09-02</th>\n",
       "      <td>78.4</td>\n",
       "      <td>./data/img_193/2010_09_02.jpg</td>\n",
       "      <td>./data/img_304/2010_09_02.jpg</td>\n",
       "    </tr>\n",
       "    <tr>\n",
       "      <th>2010-09-03</th>\n",
       "      <td>78.5</td>\n",
       "      <td>./data/img_193/2010_09_03.jpg</td>\n",
       "      <td>./data/img_304/2010_09_03.jpg</td>\n",
       "    </tr>\n",
       "    <tr>\n",
       "      <th>2010-09-04</th>\n",
       "      <td>83.6</td>\n",
       "      <td>./data/img_193/2010_09_04.jpg</td>\n",
       "      <td>./data/img_304/2010_09_04.jpg</td>\n",
       "    </tr>\n",
       "    <tr>\n",
       "      <th>2010-09-05</th>\n",
       "      <td>83.5</td>\n",
       "      <td>./data/img_193/2010_09_05.jpg</td>\n",
       "      <td>./data/img_304/2010_09_05.jpg</td>\n",
       "    </tr>\n",
       "  </tbody>\n",
       "</table>\n",
       "</div>"
      ],
      "text/plain": [
       "            f10-7                    img_193_loc  \\\n",
       "2010-09-01   77.7  ./data/img_193/2010_09_01.jpg   \n",
       "2010-09-02   78.4  ./data/img_193/2010_09_02.jpg   \n",
       "2010-09-03   78.5  ./data/img_193/2010_09_03.jpg   \n",
       "2010-09-04   83.6  ./data/img_193/2010_09_04.jpg   \n",
       "2010-09-05   83.5  ./data/img_193/2010_09_05.jpg   \n",
       "\n",
       "                              img_304_loc  \n",
       "2010-09-01  ./data/img_304/2010_09_01.jpg  \n",
       "2010-09-02  ./data/img_304/2010_09_02.jpg  \n",
       "2010-09-03  ./data/img_304/2010_09_03.jpg  \n",
       "2010-09-04  ./data/img_304/2010_09_04.jpg  \n",
       "2010-09-05  ./data/img_304/2010_09_05.jpg  "
      ]
     },
     "execution_count": 18,
     "metadata": {},
     "output_type": "execute_result"
    }
   ],
   "source": [
    "df.head()"
   ]
  },
  {
   "cell_type": "code",
   "execution_count": 14,
   "metadata": {},
   "outputs": [],
   "source": [
    "df = df[['f10-7', 'img_193_loc', 'img_304_loc']]"
   ]
  },
  {
   "cell_type": "code",
   "execution_count": 22,
   "metadata": {},
   "outputs": [],
   "source": [
    "def imgarr(img_loc):\n",
    "    try:\n",
    "        img_ = load_img(img_loc, target_size=(512, 512))\n",
    "        img = img_to_array(img_)[:, :, 0].reshape(512, 512, 1)\n",
    "        img = img / 255.0\n",
    "    except:\n",
    "        img = np.zeros((512, 512, 1))\n",
    "    return img"
   ]
  },
  {
   "cell_type": "code",
   "execution_count": 23,
   "metadata": {},
   "outputs": [],
   "source": [
    "def ardatagen(df):\n",
    "    img193, img304, value = [], [], []\n",
    "    for i in range(len(df)):\n",
    "        img193.append(imgarr(df.iloc[i, 1])) # 193\n",
    "        img304.append(imgarr(df.iloc[i, 2])) # 304\n",
    "        value.append(df.iloc[i, 0]) # f10-7\n",
    "    return np.array(img193), np.array(img304), np.array(value)"
   ]
  },
  {
   "cell_type": "code",
   "execution_count": 24,
   "metadata": {},
   "outputs": [],
   "source": [
    "img193, img304, value = ardatagen(df)"
   ]
  },
  {
   "cell_type": "code",
   "execution_count": 25,
   "metadata": {},
   "outputs": [
    {
     "data": {
      "text/plain": [
       "(2799, 512, 512, 1)"
      ]
     },
     "execution_count": 25,
     "metadata": {},
     "output_type": "execute_result"
    }
   ],
   "source": [
    "img193.shape"
   ]
  },
  {
   "cell_type": "code",
   "execution_count": 27,
   "metadata": {},
   "outputs": [],
   "source": [
    "for i in range(len(img193)):\n",
    "    if img193[i].sum()==0: img193[i] = img193[i-1]"
   ]
  },
  {
   "cell_type": "code",
   "execution_count": 29,
   "metadata": {},
   "outputs": [],
   "source": [
    "with open('./data/img193.pkl', 'wb') as f:\n",
    "    pickle.dump(img193, f)"
   ]
  },
  {
   "cell_type": "code",
   "execution_count": 30,
   "metadata": {},
   "outputs": [],
   "source": [
    "for i in range(len(img304)):\n",
    "    if img304[i].sum()==0: img304[i] = img304[i-1]"
   ]
  },
  {
   "cell_type": "code",
   "execution_count": 31,
   "metadata": {},
   "outputs": [],
   "source": [
    "with open('./data/img304.pkl', 'wb') as f:\n",
    "    pickle.dump(img304, f)"
   ]
  },
  {
   "cell_type": "code",
   "execution_count": null,
   "metadata": {},
   "outputs": [],
   "source": [
    "with open('./data/value.pkl', 'wb') as f:\n",
    "    pickle.dump(value, f)"
   ]
  },
  {
   "cell_type": "code",
   "execution_count": null,
   "metadata": {},
   "outputs": [],
   "source": [
    "def create_regression_cnn(input_shape):\n",
    "    model = Sequential()\n",
    "    \n",
    "    # Convolutional layers\n",
    "    model.add(Conv2D(32, (3, 3), activation='relu', input_shape=input_shape))\n",
    "    model.add(MaxPooling2D((2, 2)))\n",
    "    model.add(Conv2D(64, (3, 3), activation='relu'))\n",
    "    model.add(MaxPooling2D((2, 2)))\n",
    "    model.add(Conv2D(128, (3, 3), activation='relu'))\n",
    "    model.add(MaxPooling2D((2, 2)))\n",
    "    model.add(Conv2D(128, (3, 3), activation='relu'))\n",
    "    model.add(MaxPooling2D((2, 2)))\n",
    "    \n",
    "    # Flattening the convolutional layer output\n",
    "    model.add(Flatten())\n",
    "    \n",
    "    # Fully connected layers\n",
    "    model.add(Dense(512, activation='relu'))\n",
    "    \n",
    "    # Output layer for regression (single neuron, linear activation)\n",
    "    model.add(Dense(1, activation='linear'))\n",
    "    \n",
    "    return model\n"
   ]
  }
 ],
 "metadata": {
  "kernelspec": {
   "display_name": "Python 3",
   "language": "python",
   "name": "python3"
  },
  "language_info": {
   "codemirror_mode": {
    "name": "ipython",
    "version": 3
   },
   "file_extension": ".py",
   "mimetype": "text/x-python",
   "name": "python",
   "nbconvert_exporter": "python",
   "pygments_lexer": "ipython3",
   "version": "3.10.4"
  }
 },
 "nbformat": 4,
 "nbformat_minor": 2
}
